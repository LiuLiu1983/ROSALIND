{
 "cells": [
  {
   "cell_type": "code",
   "execution_count": 1,
   "id": "ac33138d",
   "metadata": {},
   "outputs": [],
   "source": [
    "def find_motif(seq,motif_seq):\n",
    "    if len(seq)<len(motif_seq):\n",
    "        raise ValueError(\"seq too short\")\n",
    "    match_list=[]\n",
    "    for i in range(len(seq)-len(motif_seq)+1):\n",
    "        if seq[i:i+len(motif_seq)]==motif_seq:\n",
    "            match_list.append(i+1)\n",
    "    \n",
    "    for element in match_list:\n",
    "        print(element,end=\" \")\n",
    "\n",
    "            \n",
    "            "
   ]
  },
  {
   "cell_type": "code",
   "execution_count": 4,
   "id": "3e173b49",
   "metadata": {},
   "outputs": [],
   "source": [
    "seq = \"GGGCTGACTAAAGTAACGCGCTTAAGTAACGAAGTAACGCCCTTAGTAACGAGTAACGCAAGTAACGCTCGCAGTAACGTAAGTAACGGTGAGAGAGTAACGAGTAACGCAGTAACGCGAAGTAACGAGTAACGTAGAGTAACGCTGGTTGGAGTAACGCAGTAACGCCAACGAGTAACGGGTGAGTAACGAGTAACGAGTAACGAGTAACGCCCACTGGACAGTAACGAGTAACGCAGTAACGGTGGAGTAACGAAAAGTAACGAGTAACGGTAGGAGTAACGATAGTAACGGTCTTGAAGTAACGACAGTAACGAGTAACGGAGTAACGTAAGTAACGGCAGTAACGAGTAACGGAGTAACGAAAAGTAACGAGTAACGCAAGTAACGGTAGTAACGTGAGTAACGTAGTAACGAAGTAACGATAGTAACGAGTAACGGCAGTAACGTTCCAGTAACGATGAAAGTAACGGTCAGTAACGTTGAAGGTCAGTAACGCCATCAAGTAACGTCAGTAACGCAGTAACGAGTAACGAAGTAACGAAGTAACGGCAGTAACGAAAGTAACGTAGAGTAACGTCCGAAGTAACGCCAGTAACGGGACGTAGTAACGGAAGTAACGAAAGTAACGTTAAGGAAGTAACGTAGTAACGCAGTAACGAGTAGTAACGAGCCATATTTTGATGCGATCGAGTAACGTAAGTAACGACAGTAACGGAGGATAGTAACGAGTAACGAGTAACGGGAGTAACGGTAGGCTAAGTAACGAGTAACGCAAAGTAACGTGACGATACATTCCGTTAGTAACGTACAGTAACGATGAGCGCGAGTAACGCATCAATAGTAACGGAGTAACGATAGTAACGTAGTAACGGGAGTAACGACAGTAACGACTTAT\"\n",
    "motif_seq = \"AGTAACGAG\""
   ]
  },
  {
   "cell_type": "code",
   "execution_count": 5,
   "id": "8c7360d7",
   "metadata": {},
   "outputs": [
    {
     "name": "stdout",
     "output_type": "stream",
     "text": [
      "45 96 121 185 192 199 223 259 310 343 368 427 522 655 665 724 731 762 "
     ]
    }
   ],
   "source": [
    "find_motif(seq,motif_seq)"
   ]
  },
  {
   "cell_type": "code",
   "execution_count": null,
   "id": "50aca3f8",
   "metadata": {},
   "outputs": [],
   "source": []
  }
 ],
 "metadata": {
  "kernelspec": {
   "display_name": "Python 3 (ipykernel)",
   "language": "python",
   "name": "python3"
  },
  "language_info": {
   "codemirror_mode": {
    "name": "ipython",
    "version": 3
   },
   "file_extension": ".py",
   "mimetype": "text/x-python",
   "name": "python",
   "nbconvert_exporter": "python",
   "pygments_lexer": "ipython3",
   "version": "3.9.13"
  }
 },
 "nbformat": 4,
 "nbformat_minor": 5
}
