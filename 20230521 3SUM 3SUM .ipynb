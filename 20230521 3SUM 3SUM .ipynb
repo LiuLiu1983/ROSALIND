{
 "cells": [
  {
   "cell_type": "code",
   "execution_count": 13,
   "id": "4727b0e5",
   "metadata": {},
   "outputs": [],
   "source": [
    "def three_sum(arr):\n",
    "    dic = {}\n",
    "    target = 0\n",
    "    for j, value1 in enumerate(arr):\n",
    "        dic = {}\n",
    "        target = 0-value1\n",
    "        for i, value in enumerate(arr):\n",
    "            lookfor=target-value\n",
    "            if lookfor in dic and dic[lookfor] != j and i != j and dic[lookfor]!=i:\n",
    "                results_list = [dic[lookfor]+1,i+1,j+1]\n",
    "                results_list.sort()\n",
    "                result_string= \" \".join(map(str,results_list))\n",
    "                return result_string\n",
    "            elif i != j:\n",
    "                dic[value]=i\n",
    "    return -1\n",
    "                \n",
    "                "
   ]
  },
  {
   "cell_type": "code",
   "execution_count": 14,
   "id": "7b3e7977",
   "metadata": {},
   "outputs": [
    {
     "data": {
      "text/plain": [
       "'1 2 4'"
      ]
     },
     "execution_count": 14,
     "metadata": {},
     "output_type": "execute_result"
    }
   ],
   "source": [
    "b = \"8 -6 4 -2 -8\"\n",
    "a = list(map(int,b.strip().split()))\n",
    "three_sum(a)"
   ]
  },
  {
   "cell_type": "code",
   "execution_count": 15,
   "id": "775859b6",
   "metadata": {},
   "outputs": [
    {
     "name": "stdout",
     "output_type": "stream",
     "text": [
      "-1\n",
      "1 145 261\n",
      "4591 6828 8127\n",
      "-1\n",
      "2885 5507 7870\n",
      "6128 6470 7334\n",
      "-1\n",
      "-1\n",
      "-1\n",
      "2888 3043 4285\n",
      "-1\n",
      "3446 5937 7405\n",
      "-1\n",
      "-1\n"
     ]
    }
   ],
   "source": [
    "with open(\"/Users/newuser/Downloads/rosalind_3sum.txt\",\"r\") as f:\n",
    "    k = int(f.readline().strip().split()[0])\n",
    "    for _ in range(k):\n",
    "        l= list(map(int,f.readline().strip().split()))\n",
    "        result = three_sum(l)\n",
    "        print(result)"
   ]
  },
  {
   "cell_type": "code",
   "execution_count": null,
   "id": "78c77474",
   "metadata": {},
   "outputs": [],
   "source": []
  }
 ],
 "metadata": {
  "kernelspec": {
   "display_name": "Python 3 (ipykernel)",
   "language": "python",
   "name": "python3"
  },
  "language_info": {
   "codemirror_mode": {
    "name": "ipython",
    "version": 3
   },
   "file_extension": ".py",
   "mimetype": "text/x-python",
   "name": "python",
   "nbconvert_exporter": "python",
   "pygments_lexer": "ipython3",
   "version": "3.9.13"
  }
 },
 "nbformat": 4,
 "nbformat_minor": 5
}
