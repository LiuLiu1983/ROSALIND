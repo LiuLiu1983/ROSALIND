{
 "cells": [
  {
   "cell_type": "code",
   "execution_count": 3,
   "id": "f4c369a7",
   "metadata": {},
   "outputs": [],
   "source": [
    "def  transition_transversion_ratio(s1,s2):\n",
    "    \"\"\"return the transition_transversion_ratio of two strings with same length\"\"\"\n",
    "    transition_number = 0\n",
    "    transversion_number = 0\n",
    "    transition_case_list = [\"AG\",\"GA\",\"CT\",\"TC\"]\n",
    "    transversion_case_list = [\"AT\",\"TA\",\"AC\",\"CA\",\"CG\",\"GC\",\"GT\",\"TG\"]\n",
    "    if len(s1) != len(s2):\n",
    "        return print(\"the length of s1 not equal to s2\")\n",
    "    else:\n",
    "        for i in range(len(s1)):\n",
    "            if s1[i]==s2[i]:\n",
    "                continue\n",
    "            elif s1[i]+s2[i] in transition_case_list:\n",
    "                transition_number+=1\n",
    "            elif s1[i]+s2[i] in transversion_case_list:\n",
    "                transversion_number+=1\n",
    "    return transition_number/transversion_number"
   ]
  },
  {
   "cell_type": "code",
   "execution_count": 6,
   "id": "f8dc08fe",
   "metadata": {},
   "outputs": [
    {
     "data": {
      "text/plain": [
       "2.2560975609756095"
      ]
     },
     "execution_count": 6,
     "metadata": {},
     "output_type": "execute_result"
    }
   ],
   "source": [
    "from Bio import SeqIO\n",
    "seq_string = []\n",
    "filename= \"rosalind_tran.txt\"\n",
    "dictionary= \"D:\\\\\"\n",
    "with open(dictionary+filename, \"r\") as fa:\n",
    "    for seq_record in SeqIO.parse(fa,\"fasta\"):\n",
    "        seq_string.append(str(seq_record.seq))\n",
    "s1 = seq_string[0]\n",
    "s2 = seq_string[1]\n",
    "transition_transversion_ratio(s1,s2)"
   ]
  },
  {
   "cell_type": "code",
   "execution_count": null,
   "id": "4d649478",
   "metadata": {},
   "outputs": [],
   "source": []
  }
 ],
 "metadata": {
  "kernelspec": {
   "display_name": "Python 3 (ipykernel)",
   "language": "python",
   "name": "python3"
  },
  "language_info": {
   "codemirror_mode": {
    "name": "ipython",
    "version": 3
   },
   "file_extension": ".py",
   "mimetype": "text/x-python",
   "name": "python",
   "nbconvert_exporter": "python",
   "pygments_lexer": "ipython3",
   "version": "3.9.13"
  }
 },
 "nbformat": 4,
 "nbformat_minor": 5
}
