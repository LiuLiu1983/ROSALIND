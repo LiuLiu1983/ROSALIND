{
 "cells": [
  {
   "cell_type": "code",
   "execution_count": 52,
   "id": "451e2831",
   "metadata": {},
   "outputs": [],
   "source": [
    "def find_break_point(current_seq, target_seq):\n",
    "    break_point=[]\n",
    "    for index in range(len(target_seq)-1):\n",
    "        current_element = current_seq[index]\n",
    "        next_element= current_seq[index+1]\n",
    "        if abs(target_seq.index(current_element)-target_seq.index(next_element))!=1:\n",
    "            break_point.append(index+1)\n",
    "    return break_point\n",
    "    \n",
    "\n",
    "def swap_region(start_index,end_index,sequence):\n",
    "    prefix = sequence[:start_index]\n",
    "    reversed_subsequence = sequence[start_index:end_index][::-1]\n",
    "    suffix = sequence[end_index:]\n",
    "    return prefix + reversed_subsequence + suffix\n",
    "    \n",
    "\n",
    "def findMinimumBreakpointReversals(sequences, target_sequence):\n",
    "    reversals = []\n",
    "    for sequence in sequences:\n",
    "        #print(sequence, target_sequence)\n",
    "        breakpoint=find_break_point(sequence, target_sequence)\n",
    "        #print(breakpoint)\n",
    "        for start_index in range(len(breakpoint)-1):\n",
    "            for end_index in range(start_index+1,len(breakpoint)):\n",
    "                reversals.append(swap_region(breakpoint[start_index],breakpoint[end_index],sequence))\n",
    "    min_bp=len(target_sequence)\n",
    "    mini_reversal = []\n",
    "    #print(reversals)\n",
    "    for reversal in reversals:\n",
    "        num_breakpoint= len(find_break_point(reversal, target_sequence))\n",
    "        if num_breakpoint<min_bp:\n",
    "            min_bp=num_breakpoint\n",
    "            mini_reversal =[reversal]\n",
    "        elif num_breakpoint==min_bp:\n",
    "            mini_reversal.append(reversal)\n",
    "    return mini_reversal\n",
    "\n",
    "def getReversalDistance(sequence, target_sequence):\n",
    "    sequence = [\"-\"] + sequence + [\"+\"]\n",
    "    target_sequence = [\"-\"] + target_sequence + [\"+\"]\n",
    "    reversals = 0\n",
    "    current_sequences = [sequence]\n",
    "    while target_sequence not in current_sequences:\n",
    "        current_sequences = findMinimumBreakpointReversals(current_sequences, target_sequence)\n",
    "        reversals += 1\n",
    "    return reversals\n",
    "\n",
    "            "
   ]
  },
  {
   "cell_type": "code",
   "execution_count": 53,
   "id": "bf7a3a3f",
   "metadata": {
    "scrolled": true
   },
   "outputs": [
    {
     "data": {
      "text/plain": [
       "9"
      ]
     },
     "execution_count": 53,
     "metadata": {},
     "output_type": "execute_result"
    }
   ],
   "source": [
    "a=\"1 2 3 4 5 6 7 8 9 10\"\n",
    "b=\"3 1 5 2 7 4 9 6 10 8\"\n",
    "a_list=a.strip().split()\n",
    "b_list=b.strip().split()\n",
    "#find_break_point(a_list, b_list)\n",
    "#swap_region(1,9,a_list)\n",
    "#findMinimumBreakpointReversals([b_list], a_list)\n",
    "getReversalDistance(b_list, a_list)"
   ]
  },
  {
   "cell_type": "code",
   "execution_count": 54,
   "id": "94fac278",
   "metadata": {},
   "outputs": [
    {
     "name": "stdout",
     "output_type": "stream",
     "text": [
      "9 5 5 8 6 "
     ]
    }
   ],
   "source": [
    "with open(r\"D:\\rosalind_rear.txt\", \"r\") as f:\n",
    "    lines=0\n",
    "    for line in f:\n",
    "        if lines%3 == 0:\n",
    "            a = list(map(int,line.strip().split()))\n",
    "        elif lines%3 == 1:\n",
    "            b = list(map(int,line.strip().split()))\n",
    "            #print(a,b)\n",
    "            answer=getReversalDistance(a,b)\n",
    "            print(answer, end = \" \")\n",
    "        lines+=1"
   ]
  },
  {
   "cell_type": "code",
   "execution_count": 2,
   "id": "fd66618d",
   "metadata": {},
   "outputs": [
    {
     "data": {
      "text/plain": [
       "[3, 2, 1]"
      ]
     },
     "execution_count": 2,
     "metadata": {},
     "output_type": "execute_result"
    }
   ],
   "source": [
    "a = [1,2,3]\n",
    "a[::-1]"
   ]
  },
  {
   "cell_type": "code",
   "execution_count": null,
   "id": "420c71c9",
   "metadata": {},
   "outputs": [],
   "source": []
  }
 ],
 "metadata": {
  "kernelspec": {
   "display_name": "Python 3 (ipykernel)",
   "language": "python",
   "name": "python3"
  },
  "language_info": {
   "codemirror_mode": {
    "name": "ipython",
    "version": 3
   },
   "file_extension": ".py",
   "mimetype": "text/x-python",
   "name": "python",
   "nbconvert_exporter": "python",
   "pygments_lexer": "ipython3",
   "version": "3.9.13"
  }
 },
 "nbformat": 4,
 "nbformat_minor": 5
}
