{
 "cells": [
  {
   "cell_type": "code",
   "execution_count": 3,
   "id": "a5f49933",
   "metadata": {},
   "outputs": [
    {
     "name": "stdout",
     "output_type": "stream",
     "text": [
      "21.6 µs ± 166 ns per loop (mean ± std. dev. of 7 runs, 10000 loops each)\n"
     ]
    }
   ],
   "source": [
    "%%timeit\n",
    "def num_rabbits(n, m):\n",
    "    # n is the n-th month.\n",
    "    # m is that a rabbit live for m month.\n",
    "    # in the first month, the num of rabbit is 1. \n",
    "    num_list = []\n",
    "    num_list.append(0)\n",
    "    num_list.append(1)\n",
    "    for i in range(1, n+1, 1):\n",
    "        if i < m:\n",
    "            num_list.append(num_list[i] + num_list[i-1])\n",
    "        if i == m:\n",
    "            num_list.append(num_list[i] + num_list[i-1] - num_list[i-m+1])\n",
    "        if i > m:\n",
    "            num_list.append(num_list[i] + num_list[i-1] - num_list[i-m])\n",
    "    # 计算第i个月该死亡的兔子，也即i-m个月的幼年兔子数量=i-m-1个月之前的成年兔子总数\n",
    "    # print(num_list)\n",
    "    return num_list[n]\n",
    "\n",
    "num_rabbits(100,18)"
   ]
  },
  {
   "cell_type": "code",
   "execution_count": null,
   "id": "28a38498",
   "metadata": {},
   "outputs": [],
   "source": []
  }
 ],
 "metadata": {
  "kernelspec": {
   "display_name": "Python 3 (ipykernel)",
   "language": "python",
   "name": "python3"
  },
  "language_info": {
   "codemirror_mode": {
    "name": "ipython",
    "version": 3
   },
   "file_extension": ".py",
   "mimetype": "text/x-python",
   "name": "python",
   "nbconvert_exporter": "python",
   "pygments_lexer": "ipython3",
   "version": "3.9.13"
  }
 },
 "nbformat": 4,
 "nbformat_minor": 5
}
