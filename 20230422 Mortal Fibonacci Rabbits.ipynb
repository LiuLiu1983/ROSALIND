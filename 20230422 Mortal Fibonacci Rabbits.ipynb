{
 "cells": [
  {
   "cell_type": "code",
   "execution_count": 55,
   "id": "8a5855c0",
   "metadata": {},
   "outputs": [
    {
     "name": "stdout",
     "output_type": "stream",
     "text": [
      "1.13 ms ± 17.1 µs per loop (mean ± std. dev. of 7 runs, 1000 loops each)\n"
     ]
    }
   ],
   "source": [
    "%%timeit\n",
    "def MortalFR(month, life, lifespan, matrix):\n",
    "    if month==1 and life == lifespan:\n",
    "        return 1\n",
    "    elif month ==1 and life != lifespan:\n",
    "        return 0\n",
    "    \n",
    "    if matrix[month][life]!=0:\n",
    "        return matrix[month][life]\n",
    "\n",
    "    rabbit_num = 0\n",
    "    if life==lifespan: \n",
    "        rabbit_num = 0\n",
    "        for i in range(1,lifespan):\n",
    "            rabbit_num+= MortalFR(month-1, i, lifespan, matrix)\n",
    "            matrix[month][life] = rabbit_num\n",
    "        return rabbit_num\n",
    "    else:\n",
    "        rabbit_num = MortalFR(month-1, life+1, lifespan, matrix)\n",
    "        matrix[month][life] = rabbit_num\n",
    "        return rabbit_num\n",
    "    \n",
    "def Mortal(month,lifespan):\n",
    "    rabbit_num = 0\n",
    "    matrix = [[0]*(lifespan+1) for _ in range(month+1)]\n",
    "    matrix[0][lifespan-1]=1\n",
    "    for i in range(1,lifespan+1):\n",
    "        rabbit_num+= MortalFR(month, i, lifespan, matrix)\n",
    "    return rabbit_num\n",
    "\n",
    "Mortal(100,18)"
   ]
  },
  {
   "cell_type": "code",
   "execution_count": null,
   "id": "3733f8e5",
   "metadata": {},
   "outputs": [],
   "source": []
  }
 ],
 "metadata": {
  "kernelspec": {
   "display_name": "Python 3 (ipykernel)",
   "language": "python",
   "name": "python3"
  },
  "language_info": {
   "codemirror_mode": {
    "name": "ipython",
    "version": 3
   },
   "file_extension": ".py",
   "mimetype": "text/x-python",
   "name": "python",
   "nbconvert_exporter": "python",
   "pygments_lexer": "ipython3",
   "version": "3.9.13"
  }
 },
 "nbformat": 4,
 "nbformat_minor": 5
}
