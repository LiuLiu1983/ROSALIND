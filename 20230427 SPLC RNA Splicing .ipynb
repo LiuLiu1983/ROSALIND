{
 "cells": [
  {
   "cell_type": "code",
   "execution_count": 14,
   "id": "7de2f3e0",
   "metadata": {},
   "outputs": [
    {
     "name": "stdout",
     "output_type": "stream",
     "text": [
      "MPSQPTISCLDAVPPKKLINYHTTDCLLVLDSLSPVDPFAQVRGLATEPGRRSVRLRVRRGITRIHSGTGENGCAVRGFFWARPLLNVGFVLVSFNPYRRKPHTSLIVALTTCRPKRATPAGDPFNRRRQRECALTRRVSRHKLFRPVRSGVNL\n"
     ]
    }
   ],
   "source": [
    "def translate(seq):\n",
    "    \"\"\"tranlaste the exon seq to protein seq\"\"\"\n",
    "    coding_table = {\n",
    "    'TCT': 'S', 'TCC': 'S', 'TCA': 'S', 'TCG': 'S', \n",
    "    'TTT': 'F', 'TTC': 'F',\n",
    "    'TTA': 'L', 'TTG': 'L', 'CTT': 'L', 'CTC': 'L', 'CTA': 'L', 'CTG': 'L',\n",
    "    'TAT': 'Y', 'TAC': 'Y',\n",
    "    'TGT': 'C', 'TGC': 'C',\n",
    "    'TGG': 'W', \n",
    "    'CCT': 'P', 'CCC': 'P', 'CCA': 'P', 'CCG': 'P',\n",
    "    'CAT': 'H', 'CAC': 'H',\n",
    "    'CAA': 'Q', 'CAG': 'Q',\n",
    "    'CGT': 'R', 'CGC': 'R', 'CGA': 'R', 'CGG': 'R', 'AGA': 'R', 'AGG': 'R',\n",
    "    'ATT': 'I', 'ATC': 'I', 'ATA': 'I',\n",
    "    'ATG': 'M', \n",
    "    'ACT': 'T', 'ACC': 'T', 'ACA': 'T', 'ACG': 'T', \n",
    "    'AAT': 'N', 'AAC': 'N', \n",
    "    'AAA': 'K', 'AAG': 'K',\n",
    "    'GTT': 'V', 'GTC': 'V', 'GTA': 'V', 'GTG': 'V',\n",
    "    'GCT': 'A', 'GCC': 'A', 'GCA': 'A', 'GCG': 'A',\n",
    "    'GAT': 'D', 'GAC': 'D',\n",
    "    'GAA': 'E', 'GAG': 'E',\n",
    "    'GGT': 'G', 'GGC': 'G', 'GGA': 'G', 'GGG': 'G',\n",
    "    'TAA': 'end', 'TAG': 'end', 'TGA': 'end','AGC': 'S','AGT': 'S'\n",
    "}\n",
    "    protein_seq =[]\n",
    "    for i in range(0,len(seq)-2,3):\n",
    "        if coding_table[seq[i:i+3]] == \"end\":\n",
    "            #print(coding_table[seq[i:i+3]])\n",
    "            break\n",
    "        protein_seq.append(coding_table[seq[i:i+3]])\n",
    "    return \"\".join(protein_seq)\n",
    "\n",
    "\n",
    "def delete_intro(seq, intro_seq):\n",
    "    \"\"\"find the intron locate in seq, and return the seq deleted the intro_seq\"\"\"\n",
    "    \"\"\"if there are more than one intro_seq in the seq, print error message: there are more than one intro_seq in the sequence provided\"\"\"\n",
    "    location = seq.find(intro_seq)\n",
    "    if location == -1:\n",
    "        print(\"intro not found\")\n",
    "    intro_delete_seq = seq[:location]+seq[(location+len(intro_seq)):]\n",
    "    location2 = seq.find(intro_seq, location+1)\n",
    "    if location2 != -1:\n",
    "        print(\"there are more than one intro_seq in the sequence provided\")\n",
    "    return intro_delete_seq\n",
    "        \n",
    "\n",
    "\"\"\"read the main_seq from the file, and iterate each intro for the finally exon seq\"\"\"\n",
    "from Bio import SeqIO\n",
    "seq_string = []\n",
    "filename=\"rosalind_splc.txt\"\n",
    "dictionary=\"D:\\\\\"\n",
    "with open(dictionary+filename, \"r\") as fa:\n",
    "    for seq_record in SeqIO.parse(fa,\"fasta\"):\n",
    "        seq_string.append(str(seq_record.seq))\n",
    "    \n",
    "    original_seq = seq_string[0]\n",
    "    intro_seq = seq_string[1:]\n",
    "    #print(intro_seq)\n",
    "    for seq in intro_seq:\n",
    "        original_seq = delete_intro(original_seq,seq)\n",
    "    print(translate(original_seq))\n",
    "        \n",
    "    \n"
   ]
  },
  {
   "cell_type": "code",
   "execution_count": null,
   "id": "c3d9b66b",
   "metadata": {},
   "outputs": [],
   "source": []
  },
  {
   "cell_type": "code",
   "execution_count": null,
   "id": "50aeeaec",
   "metadata": {},
   "outputs": [],
   "source": []
  }
 ],
 "metadata": {
  "kernelspec": {
   "display_name": "Python 3 (ipykernel)",
   "language": "python",
   "name": "python3"
  },
  "language_info": {
   "codemirror_mode": {
    "name": "ipython",
    "version": 3
   },
   "file_extension": ".py",
   "mimetype": "text/x-python",
   "name": "python",
   "nbconvert_exporter": "python",
   "pygments_lexer": "ipython3",
   "version": "3.9.13"
  }
 },
 "nbformat": 4,
 "nbformat_minor": 5
}
