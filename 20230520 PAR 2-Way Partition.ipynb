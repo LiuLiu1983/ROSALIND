{
 "cells": [
  {
   "cell_type": "code",
   "execution_count": 2,
   "id": "69dbdee4",
   "metadata": {},
   "outputs": [],
   "source": [
    "def two_way_partition(arr):\n",
    "    arr[0],arr[-1]= arr[-1],arr[0]\n",
    "    pivot = arr[-1]\n",
    "    i = 0\n",
    "    j = -1\n",
    "    \n",
    "    for i in range(0,len(arr)):\n",
    "        if arr[i]<=pivot:\n",
    "            j+=1\n",
    "            arr[i], arr[j] = arr[j], arr[i]\n",
    "    return arr\n",
    "        \n",
    "            "
   ]
  },
  {
   "cell_type": "code",
   "execution_count": 3,
   "id": "764bbc56",
   "metadata": {},
   "outputs": [
    {
     "name": "stdout",
     "output_type": "stream",
     "text": [
      "4 4 1 2 4 5 5 7 6\n"
     ]
    }
   ],
   "source": [
    "a= \"4 5 6 4 1 2 5 7 4\"\n",
    "arr = list(map(int,a.strip().split()))\n",
    "print(' '.join(list(map(str,two_way_partition(arr)))))"
   ]
  },
  {
   "cell_type": "code",
   "execution_count": null,
   "id": "85a47919",
   "metadata": {},
   "outputs": [],
   "source": []
  }
 ],
 "metadata": {
  "kernelspec": {
   "display_name": "Python 3 (ipykernel)",
   "language": "python",
   "name": "python3"
  },
  "language_info": {
   "codemirror_mode": {
    "name": "ipython",
    "version": 3
   },
   "file_extension": ".py",
   "mimetype": "text/x-python",
   "name": "python",
   "nbconvert_exporter": "python",
   "pygments_lexer": "ipython3",
   "version": "3.9.13"
  }
 },
 "nbformat": 4,
 "nbformat_minor": 5
}
