{
 "cells": [
  {
   "cell_type": "code",
   "execution_count": 14,
   "id": "2ceee765",
   "metadata": {},
   "outputs": [],
   "source": [
    "def two_SUM(l1):\n",
    "    dic = {}\n",
    "    target = 0\n",
    "    \n",
    "    for i, value in enumerate(l1):\n",
    "        lookfor=target-value\n",
    "        if lookfor in dic:\n",
    "            if i<dic[lookfor]:\n",
    "                return str(i+1)+\" \"+str(dic[lookfor]+1)\n",
    "            else:\n",
    "                return str(dic[lookfor]+1)+\" \"+str(i+1)\n",
    "        else:\n",
    "            dic[value]=i\n",
    "    return -1"
   ]
  },
  {
   "cell_type": "code",
   "execution_count": 15,
   "id": "a6149400",
   "metadata": {},
   "outputs": [],
   "source": [
    "b = \"8 2 4 -2 -8\"\n",
    "a = list(map(int,b.strip().split()))"
   ]
  },
  {
   "cell_type": "code",
   "execution_count": 17,
   "id": "f2c8e161",
   "metadata": {},
   "outputs": [
    {
     "name": "stdout",
     "output_type": "stream",
     "text": [
      "256 404\n",
      "151 213\n",
      "1829 2258\n",
      "-1\n",
      "3448 5726\n",
      "-1\n",
      "49 146\n",
      "2125 2784\n",
      "161 209\n",
      "-1\n",
      "297 309\n",
      "220 221\n",
      "18 130\n",
      "459 2427\n",
      "-1\n"
     ]
    }
   ],
   "source": [
    "with open(r\"D:\\rosalind_2sum.txt\",\"r\") as f:\n",
    "    k = int(f.readline().strip().split()[0])\n",
    "    for _ in range(k):\n",
    "        l= list(map(int,f.readline().strip().split()))\n",
    "        result = two_SUM(l)\n",
    "        print(result)\n",
    "    "
   ]
  },
  {
   "cell_type": "code",
   "execution_count": null,
   "id": "62ab85a0",
   "metadata": {},
   "outputs": [],
   "source": []
  }
 ],
 "metadata": {
  "kernelspec": {
   "display_name": "Python 3 (ipykernel)",
   "language": "python",
   "name": "python3"
  },
  "language_info": {
   "codemirror_mode": {
    "name": "ipython",
    "version": 3
   },
   "file_extension": ".py",
   "mimetype": "text/x-python",
   "name": "python",
   "nbconvert_exporter": "python",
   "pygments_lexer": "ipython3",
   "version": "3.9.13"
  }
 },
 "nbformat": 4,
 "nbformat_minor": 5
}
