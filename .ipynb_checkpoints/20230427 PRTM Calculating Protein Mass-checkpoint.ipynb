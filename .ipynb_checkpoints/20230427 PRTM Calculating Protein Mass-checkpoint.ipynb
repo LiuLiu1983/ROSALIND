{
 "cells": [
  {
   "cell_type": "code",
   "execution_count": 3,
   "id": "ebfa052a",
   "metadata": {},
   "outputs": [
    {
     "data": {
      "text/plain": [
       "112271.381"
      ]
     },
     "execution_count": 3,
     "metadata": {},
     "output_type": "execute_result"
    }
   ],
   "source": [
    "aa_mass = {\n",
    "        \"A\":71.03711, \"C\":103.00919, \"D\":115.02694, \"E\":129.04259, \"F\":147.06841,\n",
    "        \"G\":57.02146, \"H\":137.05891, \"I\":113.08406, \"K\":128.09496, \"L\":113.08406,\n",
    "        \"M\":131.04049, \"N\":114.04293, \"P\":97.05276, \"Q\":128.05858, \"R\":156.10111,\n",
    "        \"S\":87.03203, \"T\":101.04768, \"V\":99.06841, \"W\":186.07931, \"Y\":163.06333}\n",
    "\n",
    "seq=\"IIMNWCVDICTTPMCFNYIACVMICPNPGYEGSYSAFLQDTQVPWRLEWGRYFCSVSPNAAKGHEDEGECQMGVAWNYYGCTWWTAWTNMGKPVCRTVERFQHITVQCPLCYYCCSEINNLKIFPGKHGMSINIAKWAYKFPTCQVDQNMYHPMFCLEAPVVYMAWIWCHMNSLQNDDTAMVWKGKVPTCHYNWDQNWPERCFVHYVSSYEYTIMFNPWLATKADFRNRIKNSWWTHLAPIGSMNQHKSKVKMSTLGVEICHLFVSPWDAPARAYGCMKSYQCFDCDIVVYSNWIVSCRFDQAVYHGLGPHNSFNGMMFPRILGAYHQHMWKTNLDMMRVKCQWGIKCIQQYTPQLRVRRTTVFIQNNIWIWWHNHSTMWFMVNRTLTKTACMMYFLCGDACGQQQDKGPWRWVSSQCPLPASIFDYENHHPCTYFFPKNCAIEHEMILLDFILHMGWVQMWHFSPSAITEAYYRDGFDPKYYEYRSAYSFINYMHKLDEWEFDRDFFGFYLHDEKEQKLHQWDRTQTSAISAGPMDDEDYWHSCWDCCMCNRWRNYIHKTKYPYEMTHSDMGHHCCDTETYGKSYCEEGMGHKGEARAMCMSVGGIMFHLGNNVNPEVPHVVEMSMNLAHHRFSMWATYLGLKQTCQVPNQMLSDFTPHMCDMAFKFDILCEWYAWKHRPLNKAFVELHWYNGWDAERWLAMQFIELEYQKPGQDSNNQYTFRLYDTIAYGHRVIPSKDVESDECYFKNLQFAKFGTTAWWRCFSRGYKEMEHNEFEPDIKMCYSYSLHVAWWDLLAQSDQSSRMWSLLWITDQRPFNLYRMEFLVHQFVDEPYEQIRPKRQCMYEETAPHHLEHMCGTYQYYYHQCPHLWPGDGRNHNNALIMLRAHCFNKVECHMMQLDYGFFKMYWQAPNDNEMIIADESLERVRQTTCMFTDED\"\n",
    "weight = sum([aa_mass[i] for i in seq])\n",
    "round(weight,3)"
   ]
  },
  {
   "cell_type": "code",
   "execution_count": null,
   "id": "2995de20",
   "metadata": {},
   "outputs": [],
   "source": []
  }
 ],
 "metadata": {
  "kernelspec": {
   "display_name": "Python 3 (ipykernel)",
   "language": "python",
   "name": "python3"
  },
  "language_info": {
   "codemirror_mode": {
    "name": "ipython",
    "version": 3
   },
   "file_extension": ".py",
   "mimetype": "text/x-python",
   "name": "python",
   "nbconvert_exporter": "python",
   "pygments_lexer": "ipython3",
   "version": "3.9.13"
  }
 },
 "nbformat": 4,
 "nbformat_minor": 5
}
