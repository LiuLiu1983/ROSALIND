{
 "cells": [
  {
   "cell_type": "code",
   "execution_count": 17,
   "id": "48ef30ff",
   "metadata": {},
   "outputs": [],
   "source": [
    "# def add_symbols_toend(ordered_alphabet, strings_list):\n",
    "#     \"\"\"add all the alphabet to the end of the all the strings in the strings_list, return the symbol added list\"\"\"\n",
    "#     add_symbols_list = []\n",
    "#     for string in strings_list:\n",
    "#         for symbols in ordered_alphabet:\n",
    "#             add_symbols_list.append(string+symbols)\n",
    "    \n",
    "#     return add_symbols_list\n",
    "            \n",
    "def add_symbols(ordered_alphabet, k):\n",
    "    if k == 1:\n",
    "        return list(ordered_alphabet)\n",
    "    else:\n",
    "        tem_list = add_symbols(ordered_alphabet, k-1)\n",
    "        #print(tem_list)\n",
    "        results_list= []\n",
    "        for string in tem_list:\n",
    "            results_list.append(string)\n",
    "            if len(string) == k-1:\n",
    "                for symbols in ordered_alphabet:\n",
    "                    results_list.append(string+symbols)\n",
    "        \n",
    "        return results_list\n",
    "            "
   ]
  },
  {
   "cell_type": "code",
   "execution_count": 22,
   "id": "9a773f6b",
   "metadata": {},
   "outputs": [
    {
     "name": "stdout",
     "output_type": "stream",
     "text": [
      "D\n",
      "DD\n",
      "DDD\n",
      "DDN\n",
      "DDA\n",
      "DN\n",
      "DND\n",
      "DNN\n",
      "DNA\n",
      "DA\n",
      "DAD\n",
      "DAN\n",
      "DAA\n",
      "N\n",
      "ND\n",
      "NDD\n",
      "NDN\n",
      "NDA\n",
      "NN\n",
      "NND\n",
      "NNN\n",
      "NNA\n",
      "NA\n",
      "NAD\n",
      "NAN\n",
      "NAA\n",
      "A\n",
      "AD\n",
      "ADD\n",
      "ADN\n",
      "ADA\n",
      "AN\n",
      "AND\n",
      "ANN\n",
      "ANA\n",
      "AA\n",
      "AAD\n",
      "AAN\n",
      "AAA\n"
     ]
    }
   ],
   "source": [
    "ordered_alphabet=\"D N A\"\n",
    "ordered_alphabet= ordered_alphabet.split()\n",
    "k=3\n",
    "results = add_symbols(ordered_alphabet, 3)\n",
    "for ele in results:\n",
    "    print(ele)"
   ]
  },
  {
   "cell_type": "code",
   "execution_count": null,
   "id": "5d8482a1",
   "metadata": {},
   "outputs": [],
   "source": []
  }
 ],
 "metadata": {
  "kernelspec": {
   "display_name": "Python 3 (ipykernel)",
   "language": "python",
   "name": "python3"
  },
  "language_info": {
   "codemirror_mode": {
    "name": "ipython",
    "version": 3
   },
   "file_extension": ".py",
   "mimetype": "text/x-python",
   "name": "python",
   "nbconvert_exporter": "python",
   "pygments_lexer": "ipython3",
   "version": "3.9.13"
  }
 },
 "nbformat": 4,
 "nbformat_minor": 5
}
