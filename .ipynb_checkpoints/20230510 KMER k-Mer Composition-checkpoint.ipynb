{
 "cells": [
  {
   "cell_type": "code",
   "execution_count": 63,
   "id": "bb845a5e",
   "metadata": {},
   "outputs": [],
   "source": [
    "def k_mer_compostion_list(k, dic):\n",
    "    \"\"\"creat a dictionary contain k mer compostion as the key in a lexicographic order\"\"\"\n",
    "    DNA_list = [\"A\",\"C\",\"G\",\"T\"]\n",
    "    if k == 0:\n",
    "        return dic\n",
    "    if len(dic) == 0:        \n",
    "        return_dic = {'A': 0, 'C': 0, 'G': 0, 'T': 0}\n",
    "        return k_mer_compostion_list(k-1, return_dic)\n",
    "\n",
    "    return_dic = {}\n",
    "    for key in dic:\n",
    "        for DNA in DNA_list:\n",
    "                return_dic[key+DNA]=0\n",
    "    return k_mer_compostion_list(k-1, return_dic)"
   ]
  },
  {
   "cell_type": "code",
   "execution_count": 64,
   "id": "d549a2e1",
   "metadata": {},
   "outputs": [],
   "source": [
    "def count_k_mer(k, s):\n",
    "    \"\"\"return a string which count the k_mer_compostion in s\"\"\"\n",
    "    count_dic = k_mer_compostion_list(k, {})\n",
    "    for i in range(len(s)-k+1):\n",
    "        count_dic[s[i:i+k]]+=1\n",
    "    return_str = \"\"\n",
    "    for key in count_dic:\n",
    "        return_str+=str(count_dic[key])+\" \"\n",
    "    return return_str[:-1]"
   ]
  },
  {
   "cell_type": "code",
   "execution_count": 72,
   "id": "71e30387",
   "metadata": {},
   "outputs": [
    {
     "name": "stdout",
     "output_type": "stream",
     "text": [
      "375 381 390 383 374 396 370 363 398 361 382 374 388 382 404 369 402 338 399 354 381 421 378 357 391 356 360 353 340 369 411 383 414 374 397 413 398 380 364 395 395 394 374 376 378 416 365 370 381 403 401 393 398 389 367 391 381 392 386 392 360 371 379 337 385 396 364 369 361 375 345 367 402 393 377 378 397 363 367 358 381 398 383 349 382 425 410 374 396 380 394 383 388 353 371 368 379 372 404 383 371 362 389 374 376 369 381 368 377 367 362 375 374 378 371 397 366 344 391 373 365 398 391 390 379 364 388 365 372 340 412 409 374 377 385 384 391 409 389 383 390 403 378 375 363 360 381 399 366 397 399 385 366 383 389 382 425 358 385 367 382 392 386 379 345 409 378 378 373 383 356 380 378 362 406 364 396 374 400 371 355 379 367 401 378 389 366 380 390 356 392 371 397 385 349 382 384 389 361 389 407 374 391 394 403 397 402 345 368 352 387 383 382 348 366 364 385 377 351 363 367 394 377 378 358 382 385 371 389 396 389 388 395 364 381 386 408 357 380 400 362 368 394 386 371 348 351 351 372 383 383 383 381 330 362 382\n"
     ]
    }
   ],
   "source": [
    "from Bio import SeqIO\n",
    "seq_string = []\n",
    "filename= \"rosalind_kmer.txt\"\n",
    "dictionary= \"D:\\\\\"\n",
    "with open(dictionary+filename, \"r\") as fa:\n",
    "    for seq_record in SeqIO.parse(fa,\"fasta\"):\n",
    "        seq_string.append(str(seq_record.seq))\n",
    "s1 = seq_string[0]\n",
    "#print(s1)\n",
    "print(count_k_mer(4, s1))"
   ]
  },
  {
   "cell_type": "code",
   "execution_count": 66,
   "id": "6960ff65",
   "metadata": {},
   "outputs": [],
   "source": [
    "compare = \"4 1 4 3 0 1 1 5 1 3 1 2 2 1 2 0 1 1 3 1 2 1 3 1 1 1 1 2 2 5 1 3 0 2 2 1 1 1 1 3 1 0 0 1 5 5 1 5 0 2 0 2 1 2 1 1 1 2 0 1 0 0 1 1 3 2 1 0 3 2 3 0 0 2 0 8 0 0 1 0 2 1 3 0 0 0 1 4 3 2 1 1 3 1 2 1 3 1 2 1 2 1 1 1 2 3 2 1 1 0 1 1 3 2 1 2 6 2 1 1 1 2 3 3 3 2 3 0 3 2 1 1 0 0 1 4 3 0 1 5 0 2 0 1 2 1 3 0 1 2 2 1 1 0 3 0 0 4 5 0 3 0 2 1 1 3 0 3 2 2 1 1 0 2 1 0 2 2 1 2 0 2 2 5 2 2 1 1 2 1 2 2 2 2 1 1 3 4 0 2 1 1 0 1 2 2 1 1 1 5 2 0 3 2 1 1 2 2 3 0 3 0 1 3 1 2 3 0 2 1 2 2 1 2 3 0 1 2 3 1 1 3 1 0 1 1 3 0 2 1 2 2 0 2 1 1\""
   ]
  },
  {
   "cell_type": "code",
   "execution_count": 67,
   "id": "de10ef8a",
   "metadata": {},
   "outputs": [
    {
     "name": "stdout",
     "output_type": "stream",
     "text": [
      "3\n",
      "3\n"
     ]
    }
   ],
   "source": [
    "results_list= list(map(int, results.split(\" \")))\n",
    "compare_list= list(map(int, compare.split(\" \")))\n",
    "print(results_list[18])\n",
    "print(compare_list[18])"
   ]
  },
  {
   "cell_type": "code",
   "execution_count": 70,
   "id": "ef1e7a8a",
   "metadata": {},
   "outputs": [
    {
     "data": {
      "text/plain": [
       "'ACAG'"
      ]
     },
     "execution_count": 70,
     "metadata": {},
     "output_type": "execute_result"
    }
   ],
   "source": [
    "dic = k_mer_compostion_list(4, {})\n",
    "list(dic)[18]"
   ]
  },
  {
   "cell_type": "code",
   "execution_count": null,
   "id": "9458a385",
   "metadata": {},
   "outputs": [],
   "source": []
  }
 ],
 "metadata": {
  "kernelspec": {
   "display_name": "Python 3 (ipykernel)",
   "language": "python",
   "name": "python3"
  },
  "language_info": {
   "codemirror_mode": {
    "name": "ipython",
    "version": 3
   },
   "file_extension": ".py",
   "mimetype": "text/x-python",
   "name": "python",
   "nbconvert_exporter": "python",
   "pygments_lexer": "ipython3",
   "version": "3.9.13"
  }
 },
 "nbformat": 4,
 "nbformat_minor": 5
}
