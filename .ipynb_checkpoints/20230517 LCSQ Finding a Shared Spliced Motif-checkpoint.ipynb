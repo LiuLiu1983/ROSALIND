{
 "cells": [
  {
   "cell_type": "code",
   "execution_count": 30,
   "id": "ace9113a",
   "metadata": {},
   "outputs": [],
   "source": [
    "\"\"\"DP\n",
    "for array m*n\n",
    "if array[0][m]= array[n][0]:\n",
    "    add=1\n",
    "array[m][n]=max(array[m-1][n-1]+add, array[m-1][n], array[m][n-1])\n",
    "\"\"\"\n",
    "\n",
    "def Shared_Spliced_Motif_matrix(l1,l2):\n",
    "    length_l1 = len(l1)\n",
    "    length_l2 = len(l2)\n",
    "    \"a (m+1)*(n+1) array\"\n",
    "    matrix=[[0]*(length_l1+1) for _ in range(length_l2+1)]\n",
    "    match_matrix= [[0]*(length_l1+1) for _ in range(length_l2+1)]\n",
    "    max_value = 0\n",
    "    row_index = 0\n",
    "    column_index = 0\n",
    "    for i in range(1,length_l1+1):\n",
    "        for j in range(1,length_l2+1):\n",
    "            if l1[i-1]== l2[j-1]:\n",
    "                add=1\n",
    "                match_matrix[j][i]=1\n",
    "            else:\n",
    "                add=0\n",
    "            matrix[j][i]=max(matrix[j-1][i-1]+add, matrix[j-1][i], matrix[j][i-1])\n",
    "            if matrix[j][i]>max_value:\n",
    "                max_value = matrix[j][i]\n",
    "                row_index = j\n",
    "                column_index = i\n",
    "                \n",
    "                \n",
    "    return matrix, match_matrix, max_value, row_index,column_index\n",
    "                \n",
    "    "
   ]
  },
  {
   "cell_type": "code",
   "execution_count": 31,
   "id": "828fc9a4",
   "metadata": {
    "scrolled": true
   },
   "outputs": [],
   "source": [
    "l1 =\"ATCCACCTTTGGACTAGATAAACGTCGAAGGTAAGTTAGCCGGACGGTTTCGGTGTACGCCTACATACGTTCAGAAGGGTTTCAATGGACGACTCGCACCTGCTAACGCTTAAGTGGCCCAAGCATGCAAAAGGAGCAAGGCTTCCCAATGTTATGACCGCATAGCGGAACTGCGAACCGCAGCAGAGGCTGGGCAAGACAGTGTTGCGTCGCGGCCCACTCGTCCAAATGCCTGGCTTACTCGCTCCTTAAGCGGTGACTCGGTTTTCCTGTCTTGTCTCTAACCTGCTCAGATGTTTGGAGAAGCCGCCCTAGCTTTCGGACGATCGATCCCTCGTCTTGGAGAAATGTGGTCACCTGGGGGTATGGGGTGGTAGGTATATGAGGGTGGGTAATTGGCACTCGATCTAAGTGTGTCCGCATTCAGGTGGTCGGGTGTACCCACGATACTGGGCAGCTTGATGTTAAGAAGACAATTTCCGTGCTTCTTTGAATAGTACGGACCGTCATGTACCATGCTTCGGGCGGTTTACCTCTTCGATGAACGTTGTGATTTGCAACATGATTAGAGGACTGCCATCACTCATCAAAGCCGAGGCAAAGCTATAGTATTCAAGTAAGGGCACTACAACGTTGCTGATTTGCCAATTGTCATACAGGTTCTCGCTCGATTGAAGTTCGACCGAGACGCGCTAATAATTTCCATTTAGTGGTGTTCTGGACTAATGCCCAAAAGTAGACAGGCCTCTACAACTGACAGTCACAGCCTTTATGCTCACTCGCAAATTGCTTTAAATTCTCAGATCACTCACCGTCTCATCACGCTCATGGGCATTGTGCACCATTGCGTCTTTTAAAGATTTACCTACAGAATCTGAGACGTCACCATTGGAGTCTTAAAGCCTGCCTTTACACGGGCGTATTGTGCATACGGCAATAGACGTGTGGGGTGGGGCGCACCCTCAAGCCCATTCACTTTGTATTCCACTCTGTTC\"\n",
    "l2 =\"CCAGCCAGTTTAAATGACCGAGCACCACTTAGTCATGGACGTGCTTAGGCCGACACCCGCTCCGGTTAGTTGTCAAGACCGCAACCGACTGGCTTGAGTGGTTCCTTGTTAGATGCACCTTAACGTTAGGTGATATCGATTCTGGGTTCATGATAATCGACGAAACATCGCTGCCCTATTTTCGCACTTACGGTCGTCTATAACACAGGATGAGATGGTGGCAGCGTTAGCGCGGTAGAGGAAGCCCATTGGGGTTCGCCACGTGGCCTTCACCTCACCGTTCAAGCGGTCGCAACAAGCGCAAATGGCCTGGTAGGGAGCTAGGACGGCACGTGGTAGCAATCCAGTAAATTCCCGCGACTAACTGTCTGAACCCAGTTTCATGGCTTCCCCCCTCCACGTCCCCCCTGGTAGATTCTTGTTCGATGTCTTATTCAAGCTACAGCGTTGAGAGAGGTGGGCTAAGAGCCCATAACCATTCAATAGGAAGTGGTGTCCCTGCTAGGTAGCCATTGACCTAATCGGCAGAAATTGGATAGATACCCACCCAGTCAAAGCCATATTTAGAAATTGCCAAGGTTGCCTTGCATTCAGCGCACACGTCATCAGACTGTCGTGCTAAACTCACAATCGACGCACTAGTCACGTCGGCTCACGACTCTTAGAACTAACCGTCTCGCGATGACCCATTCTATAGAATACATGCGACCGATTTAGCACACCGCTGGCTGCTTGTTCATTCCTGCCGGTCACCATCGGGCCCAGTTTTAACTACCATGTCGGATCTACCGTGACTTAGTCGGGATGTTCTTACACTA\"\n",
    "results=Shared_Spliced_Motif_matrix(l1,l2)\n",
    "matrix= results[0]\n",
    "match_matrix=results[1]\n",
    "max_value=results[2]\n",
    "row_index = results[3]\n",
    "column_index = results[4]"
   ]
  },
  {
   "cell_type": "code",
   "execution_count": 32,
   "id": "3d9f747f",
   "metadata": {},
   "outputs": [],
   "source": [
    "def find_next(max_value, row_index,column_index, matrix, match_matrix):\n",
    "    \"\"\"return the row_index,column_index the value==max_value in matrix and ==1 in match_matrix\"\"\"\n",
    "    for j in range(column_index,0,-1):\n",
    "        for i in range(row_index,0,-1):   \n",
    "            if matrix[i][j] == max_value and match_matrix[i][j] == 1:\n",
    "                #print(i,j)\n",
    "                return i,j"
   ]
  },
  {
   "cell_type": "code",
   "execution_count": 33,
   "id": "fca5ebc5",
   "metadata": {
    "scrolled": false
   },
   "outputs": [
    {
     "name": "stdout",
     "output_type": "stream",
     "text": [
      "582\n",
      "0\n",
      "CCAGCCAGTTTAAGACCGAGCACCCTTAGTCATGGACGTGCTTAGGCCGACACCCCCCGTTATTGTCAAGACCGCAACCGACTGGCTTGATTTCCTTGTTAGTCCCTTAACGTTGGTGTTGTTCTTTCATGAAATGACGAACTCGCCCCTTTCGCCTTCGTCTTAAAAAGGATGAATGGTGGAGGTTAGGGGTAGAGAAGCCCATTGGGGTTCCCACGTGGCCTTCACCTCAGTTAAGCGGTCGAACCCAAATGGCGGGGGACTAGGACGGCACGTGGTACAATCAAATCCCGCGACAACTGTCTGAACCCATTTCATGCTCCCAGTCTTTTCTTCGATTTTTTAAGGGTTGAGAGAGGGCGGCCATAATTTTTTCCTTAGTTTGTTGGCTTGGATAATCCCAAAAAAAAAATGCAAGGTTCCTGCATCAGCGCCCTCATCAATGGGCTAAACTCACATCACGCATTCACGTCGGCTCCCAACCCCCATGCCCTTCTATAAATACATGCGACCGATTTAGCCCCCTTTTTCACCCGGCCCATGGCATTTAACTACTGTCGATCACCTACTTGTTTTTACACT\n"
     ]
    }
   ],
   "source": [
    "shared_spliced_motif=\"\"\n",
    "print(max_value)\n",
    "results= find_next(max_value, len(l2)-1, len(l1)-1, matrix, match_matrix)\n",
    "row_index = results[0]\n",
    "column_index = results[1]\n",
    "shared_spliced_motif = l1[column_index-1]+shared_spliced_motif\n",
    "max_value-=1\n",
    "while max_value >=1:\n",
    "    results = find_next(max_value, row_index, column_index, matrix, match_matrix)\n",
    "    row_index = results[0]\n",
    "    #print(row_index)\n",
    "    column_index = results[1]\n",
    "    #print(column_index)\n",
    "    if l1[column_index-1]==l2[row_index-1]:\n",
    "        #print(l1[column_index-1])\n",
    "        shared_spliced_motif = l1[column_index-1]+shared_spliced_motif\n",
    "        max_value-=1\n",
    "    else:\n",
    "        print(\"error\")\n",
    "print(max_value)\n",
    "print(shared_spliced_motif)\n",
    "    "
   ]
  },
  {
   "cell_type": "code",
   "execution_count": null,
   "id": "ec9f08dd",
   "metadata": {},
   "outputs": [],
   "source": []
  },
  {
   "cell_type": "code",
   "execution_count": null,
   "id": "c7e2d45e",
   "metadata": {},
   "outputs": [],
   "source": []
  }
 ],
 "metadata": {
  "kernelspec": {
   "display_name": "Python 3 (ipykernel)",
   "language": "python",
   "name": "python3"
  },
  "language_info": {
   "codemirror_mode": {
    "name": "ipython",
    "version": 3
   },
   "file_extension": ".py",
   "mimetype": "text/x-python",
   "name": "python",
   "nbconvert_exporter": "python",
   "pygments_lexer": "ipython3",
   "version": "3.9.13"
  }
 },
 "nbformat": 4,
 "nbformat_minor": 5
}
