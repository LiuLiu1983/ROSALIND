{
 "cells": [
  {
   "cell_type": "code",
   "execution_count": 6,
   "id": "7bc0c309",
   "metadata": {},
   "outputs": [],
   "source": [
    "def dominant_allele_percen(k,m,n):\n",
    "    \"\"\"Given: Three positive integers k, m, and n, representing a population containing k+m+n organisms: k individuals are homozygous dominant for a factor, m are heterozygous, and n\n",
    "are homozygous recessive.\n",
    "Return: The probability that two randomly selected mating organisms will produce an individual possessing a dominant allele (and thus displaying the dominant phenotype). Assume that any two organisms can mate.\"\"\"\n",
    "    twodom= (k/(k+m+n))*((k-1)/(k+m+n-1))\n",
    "    twores= (n/(k+m+n))*((n-1)/(k+m+n-1))\n",
    "    twohet=(m/(k+m+n))*((m-1)/(k+m+n-1))\n",
    "    reshet=2*(m/(k+m+n))*(n/(k+m+n-1))\n",
    "\n",
    "    total_recc= twores+0.25*twohet+0.5*reshet\n",
    "    return 1-total_recc"
   ]
  },
  {
   "cell_type": "code",
   "execution_count": 8,
   "id": "a5b82613",
   "metadata": {},
   "outputs": [
    {
     "data": {
      "text/plain": [
       "0.805658381808567"
      ]
     },
     "execution_count": 8,
     "metadata": {},
     "output_type": "execute_result"
    }
   ],
   "source": [
    "dominant_allele_percen(22,25,15)"
   ]
  },
  {
   "cell_type": "code",
   "execution_count": null,
   "id": "3a4956a3",
   "metadata": {},
   "outputs": [],
   "source": [
    "22 25 15\n"
   ]
  }
 ],
 "metadata": {
  "kernelspec": {
   "display_name": "Python 3 (ipykernel)",
   "language": "python",
   "name": "python3"
  },
  "language_info": {
   "codemirror_mode": {
    "name": "ipython",
    "version": 3
   },
   "file_extension": ".py",
   "mimetype": "text/x-python",
   "name": "python",
   "nbconvert_exporter": "python",
   "pygments_lexer": "ipython3",
   "version": "3.9.13"
  }
 },
 "nbformat": 4,
 "nbformat_minor": 5
}
