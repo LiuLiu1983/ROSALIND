{
 "cells": [
  {
   "cell_type": "code",
   "execution_count": 4,
   "id": "c3ec73ab",
   "metadata": {},
   "outputs": [],
   "source": [
    "这个写的不对\n",
    "\n",
    "def Independent_Alleles_helper(k):\n",
    "    \"\"\"Given: a integers k. \n",
    "    return the possible of each genetype from the original genotype Aa.\"\"\"\n",
    "    \n",
    "    if k==1:\n",
    "        twodom = 0.25\n",
    "        heter = 0.5\n",
    "        twores = 0.25\n",
    "        return twodom,heter,twores\n",
    "    else:\n",
    "        twodom = Independent_Alleles_helper(k-1)[0]*0.5+Independent_Alleles_helper(k-1)[1]*0.25\n",
    "        heter = Independent_Alleles_helper(k-1)[0]*0.5+Independent_Alleles_helper(k-1)[1]*0.5+Independent_Alleles_helper(k-1)[2]*0.5\n",
    "        twores = Independent_Alleles_helper(k-1)[2]*0.5+Independent_Alleles_helper(k-1)[1]*0.25\n",
    "    \n",
    "    return twodom,heter,twores\n"
   ]
  },
  {
   "cell_type": "code",
   "execution_count": 5,
   "id": "d1cffcbe",
   "metadata": {},
   "outputs": [
    {
     "name": "stdout",
     "output_type": "stream",
     "text": [
      "[(0.25, 0.5, 0.25), (0.25, 0.5, 0.25), (0.25, 0.5, 0.25), (0.25, 0.5, 0.25), (0.25, 0.5, 0.25), (0.25, 0.5, 0.25), (0.25, 0.5, 0.25), (0.25, 0.5, 0.25), (0.25, 0.5, 0.25)]\n"
     ]
    }
   ],
   "source": [
    "k= [Independent_Alleles_helper(i) for i in range(1,10)]\n",
    "print(k)"
   ]
  },
  {
   "cell_type": "code",
   "execution_count": null,
   "id": "29c069b5",
   "metadata": {},
   "outputs": [],
   "source": []
  }
 ],
 "metadata": {
  "kernelspec": {
   "display_name": "Python 3 (ipykernel)",
   "language": "python",
   "name": "python3"
  },
  "language_info": {
   "codemirror_mode": {
    "name": "ipython",
    "version": 3
   },
   "file_extension": ".py",
   "mimetype": "text/x-python",
   "name": "python",
   "nbconvert_exporter": "python",
   "pygments_lexer": "ipython3",
   "version": "3.9.13"
  }
 },
 "nbformat": 4,
 "nbformat_minor": 5
}
