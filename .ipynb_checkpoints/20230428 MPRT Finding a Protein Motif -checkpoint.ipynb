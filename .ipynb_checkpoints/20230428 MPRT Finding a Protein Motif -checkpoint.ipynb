{
 "cells": [
  {
   "cell_type": "code",
   "execution_count": 21,
   "id": "702bc016",
   "metadata": {},
   "outputs": [],
   "source": [
    "from Bio import SeqIO\n",
    "from Bio.Seq import Seq\n",
    "from Bio.SeqRecord import SeqRecord\n",
    "from urllib.request import urlopen\n",
    "import io\n",
    "import re\n",
    "\n",
    "def fetch_uniprot(uniprot_id):\n",
    "    url = f\"http://www.uniprot.org/uniprot/{uniprot_id}.fasta\"\n",
    "    fasta = urlopen(url).read().decode('utf-8')\n",
    "    my_file = io.StringIO()\n",
    "    my_file.write(fasta)\n",
    "    my_file.seek(0)\n",
    "    return my_file"
   ]
  },
  {
   "cell_type": "code",
   "execution_count": 35,
   "id": "200eab02",
   "metadata": {},
   "outputs": [
    {
     "name": "stdout",
     "output_type": "stream",
     "text": [
      "P10761_ZP3_MOUSE\n",
      "146 273 304 327 330\n",
      "P10643_CO7_HUMAN\n",
      "202 754\n",
      "P11831_SRF_HUMAN\n",
      "319 490\n",
      "Q3T0C9\n",
      "15 38\n",
      "A0QQ98\n",
      "44\n",
      "P00742_FA10_HUMAN\n",
      "221 231\n",
      "P40308\n",
      "183 506 522\n",
      "O14977\n",
      "9\n",
      "Q78PG9\n",
      "11 194 202\n",
      "P04233_HG2A_HUMAN\n",
      "130 136 256 270\n",
      "P42098_ZP3_PIG\n",
      "124 146 179 271\n"
     ]
    }
   ],
   "source": [
    "\n",
    "\n",
    "def Nglycosylation_motif_finder(my_file):\n",
    "    \"\"\"receive a handler and print out the output \n",
    "    its given access ID followed by a list of locations in the protein string \n",
    "    where the motif can be found \"\"\"\n",
    "    \n",
    "    for record in SeqIO.parse(my_file, \"fasta\"):\n",
    "        #print(record.id.split(\"|\"))\n",
    "        \"\"\"find the motif position\"\"\"\n",
    "        seq = str(record.seq)\n",
    "        motif_regex = r'N[^P][S|T][^P]'\n",
    "        p = re.compile(r'N[^P](S|T)[^P]')\n",
    "        motif_point = []\n",
    "        for j in range(len(seq)-3):\n",
    "            if p.match(seq[j:j+4]):\n",
    "                motif_point.append(str(j+1))\n",
    "        #motif_locs = [str(m.start() + 1) for m in re.finditer(motif_regex, seq)]           \n",
    "        #return \" \".join(motif_locs)\n",
    "        return \" \".join(motif_point)\n",
    "\n",
    "\n",
    "filename = \"rosalind_mprt.txt\"\n",
    "dictionary = \"D:\\\\\"\n",
    "with open(dictionary+filename, \"r\") as f:\n",
    "    for line in f:\n",
    "        line = line.strip()\n",
    "        ID = line.split(\"_\")[0]\n",
    "        handler = fetch_uniprot(ID)\n",
    "        motif_position = Nglycosylation_motif_finder(handler)\n",
    "        if motif_position:\n",
    "            print(line)\n",
    "            print(motif_position)"
   ]
  },
  {
   "cell_type": "code",
   "execution_count": null,
   "id": "7d1aff6f",
   "metadata": {},
   "outputs": [],
   "source": []
  }
 ],
 "metadata": {
  "kernelspec": {
   "display_name": "Python 3 (ipykernel)",
   "language": "python",
   "name": "python3"
  },
  "language_info": {
   "codemirror_mode": {
    "name": "ipython",
    "version": 3
   },
   "file_extension": ".py",
   "mimetype": "text/x-python",
   "name": "python",
   "nbconvert_exporter": "python",
   "pygments_lexer": "ipython3",
   "version": "3.9.13"
  }
 },
 "nbformat": 4,
 "nbformat_minor": 5
}
