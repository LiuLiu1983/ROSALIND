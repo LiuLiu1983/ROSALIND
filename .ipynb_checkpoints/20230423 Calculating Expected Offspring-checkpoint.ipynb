{
 "cells": [
  {
   "cell_type": "code",
   "execution_count": 3,
   "id": "31b7008b",
   "metadata": {},
   "outputs": [],
   "source": [
    "def E_offspring(couple_number, possible_list):\n",
    "    E_value = 0 \n",
    "    for c, p in zip(couple_number,possible_list):\n",
    "        E_value += int(c)*p*2\n",
    "    return E_value"
   ]
  },
  {
   "cell_type": "code",
   "execution_count": 5,
   "id": "6fc0bc13",
   "metadata": {},
   "outputs": [
    {
     "data": {
      "text/plain": [
       "147952.0"
      ]
     },
     "execution_count": 5,
     "metadata": {},
     "output_type": "execute_result"
    }
   ],
   "source": [
    "input_list = \"16200 19290 17146 16516 17906 17022\"\n",
    "couple_number = input_list.split(\" \")\n",
    "possible_list=[1,1,1,0.75,0.5,0]\n",
    "E_offspring(couple_number, possible_list)"
   ]
  },
  {
   "cell_type": "code",
   "execution_count": null,
   "id": "98e3ed3b",
   "metadata": {},
   "outputs": [],
   "source": []
  }
 ],
 "metadata": {
  "kernelspec": {
   "display_name": "Python 3 (ipykernel)",
   "language": "python",
   "name": "python3"
  },
  "language_info": {
   "codemirror_mode": {
    "name": "ipython",
    "version": 3
   },
   "file_extension": ".py",
   "mimetype": "text/x-python",
   "name": "python",
   "nbconvert_exporter": "python",
   "pygments_lexer": "ipython3",
   "version": "3.9.13"
  }
 },
 "nbformat": 4,
 "nbformat_minor": 5
}
