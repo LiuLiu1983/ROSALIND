{
 "cells": [
  {
   "cell_type": "code",
   "execution_count": 17,
   "id": "805cfab5",
   "metadata": {},
   "outputs": [
    {
     "name": "stdout",
     "output_type": "stream",
     "text": [
      "A\n",
      "0\n",
      "1\n",
      "CCTGCGGAAGATCGGCACTAGAATAGCCAGAACCGTTTCTCTGAGGCTTCCGGCCTTCCCTCCCACTAATAATTCTGAGG\n",
      "43\n",
      "80\n",
      "CCATCGGTAGCGCATCCTTAGTCCAATTAAGTCCCTATCCAGGCGCTCCGCCGAAGGTCTATATCCATTTGTCAGCAGACACGC\n",
      "45\n",
      "84\n",
      "Rosalind_6404\n",
      "53.75\n"
     ]
    }
   ],
   "source": [
    "def CGcalculator(string):\n",
    "    CG_number = 0\n",
    "    string = string.upper()\n",
    "    print(string)\n",
    "    for i in range(len(string)):\n",
    "        if string[i] not in [\"A\", \"T\", \"C\", \"G\"]:\n",
    "            raise CustomException(\"invalid character, not DNA sequence\")\n",
    "        if string[i] in [\"C\", \"G\"]:\n",
    "            CG_number += 1\n",
    "    print(CG_number)\n",
    "    print(len(string))\n",
    "    return 100*float(CG_number)/float(len(string))\n",
    "\n",
    "directory_path = \"D:\"\n",
    "file_path = directory_path + \"\\\\example.fasta\"\n",
    "\n",
    "with open(file_path, \"r\") as file:\n",
    "    # Initialize variables\n",
    "    biggest_cg = 0\n",
    "    biggest_cg_name = \"\"\n",
    "    tem_cg = 0\n",
    "    tem_name=''\n",
    "    tem_seq = 'A'\n",
    "    readseq = False\n",
    "    # Loop over each line in the file\n",
    "    for line in file:\n",
    "        line = line.strip()   \n",
    "        if line[0]=='>':\n",
    "            tem_cg = CGcalculator(tem_seq)\n",
    "            tem_seq = ''\n",
    "            if tem_cg > biggest_cg:\n",
    "                biggest_cg= tem_cg\n",
    "                biggest_cg_name = tem_name\n",
    "            tem_name = line[1:]\n",
    "        else:\n",
    "            tem_seq += line\n",
    "    \n",
    "    tem_cg = CGcalculator(tem_seq)\n",
    "    if tem_cg > biggest_cg:\n",
    "        biggest_cg= tem_cg\n",
    "        biggest_cg_name = tem_name    \n",
    "            \n",
    "print(biggest_cg_name)     \n",
    "print(biggest_cg)\n"
   ]
  },
  {
   "cell_type": "code",
   "execution_count": null,
   "id": "bc5202f4",
   "metadata": {},
   "outputs": [],
   "source": []
  },
  {
   "cell_type": "code",
   "execution_count": null,
   "id": "2973ffa0",
   "metadata": {},
   "outputs": [],
   "source": []
  }
 ],
 "metadata": {
  "kernelspec": {
   "display_name": "Python 3 (ipykernel)",
   "language": "python",
   "name": "python3"
  },
  "language_info": {
   "codemirror_mode": {
    "name": "ipython",
    "version": 3
   },
   "file_extension": ".py",
   "mimetype": "text/x-python",
   "name": "python",
   "nbconvert_exporter": "python",
   "pygments_lexer": "ipython3",
   "version": "3.9.13"
  }
 },
 "nbformat": 4,
 "nbformat_minor": 5
}
