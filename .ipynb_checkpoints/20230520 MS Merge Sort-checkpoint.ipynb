{
 "cells": [
  {
   "cell_type": "code",
   "execution_count": 15,
   "id": "a6858697",
   "metadata": {},
   "outputs": [],
   "source": [
    "def merge_sort(arr):\n",
    "    if len(arr)>1:\n",
    "        mid = len(arr)//2\n",
    "        L = arr[:mid]\n",
    "        R = arr[mid:]\n",
    "        merge_sort(L)\n",
    "        merge_sort(R)\n",
    "\n",
    "        i = j= k= 0\n",
    "        while i<len(L) and j <len(R):\n",
    "            if L[i]>=R[j]:\n",
    "                arr[k]=R[j]\n",
    "                j+=1\n",
    "            else:\n",
    "                arr[k]=L[i]\n",
    "                i+=1\n",
    "            k+=1\n",
    "\n",
    "        while i<len(L):\n",
    "            arr[k]=L[i]\n",
    "            i+=1\n",
    "            k+=1\n",
    "\n",
    "        while j<len(R):\n",
    "            arr[k]=R[j]\n",
    "            j+=1\n",
    "            k+=1"
   ]
  },
  {
   "cell_type": "code",
   "execution_count": 16,
   "id": "fc9656c1",
   "metadata": {},
   "outputs": [
    {
     "data": {
      "text/plain": [
       "[-20, -18, 1, 4, 4, 17, 19, 20, 20, 35]"
      ]
     },
     "execution_count": 16,
     "metadata": {},
     "output_type": "execute_result"
    }
   ],
   "source": [
    "a = \"20 19 35 -18 17 -20 20 1 4 4\"\n",
    "arr = list(map(int,a.split()))\n",
    "merge_sort(arr)\n",
    "arr"
   ]
  },
  {
   "cell_type": "code",
   "execution_count": null,
   "id": "9e969fae",
   "metadata": {},
   "outputs": [],
   "source": []
  }
 ],
 "metadata": {
  "kernelspec": {
   "display_name": "Python 3 (ipykernel)",
   "language": "python",
   "name": "python3"
  },
  "language_info": {
   "codemirror_mode": {
    "name": "ipython",
    "version": 3
   },
   "file_extension": ".py",
   "mimetype": "text/x-python",
   "name": "python",
   "nbconvert_exporter": "python",
   "pygments_lexer": "ipython3",
   "version": "3.9.13"
  }
 },
 "nbformat": 4,
 "nbformat_minor": 5
}
