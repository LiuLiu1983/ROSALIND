{
 "cells": [
  {
   "cell_type": "code",
   "execution_count": 1,
   "id": "451e2831",
   "metadata": {},
   "outputs": [],
   "source": [
    "def compare_two_list(first_l, second_l):\n",
    "    \"\"\"compare_two_list and return the number of same element in the same index of those two list with a interger number \"\"\"\n",
    "    same_num = 0\n",
    "    for i, value in enumerate(first_l):\n",
    "        if value == second_l[i]:\n",
    "            same_num+=1\n",
    "    return same_num\n",
    "\n",
    "\n",
    "def find_break_point(current_seq, target_seq):\n",
    "    break_point=[]\n",
    "    for index in range(len(target_seq)-1):\n",
    "        current_element = current_seq[index]\n",
    "        next_element= current_seq[index+1]\n",
    "        if abs(target_seq.index(current_element)-target_seq.index(next_element))!=1:\n",
    "            break_point.append(index+1)\n",
    "    return break_point\n",
    "    \n",
    "\n",
    "def swap_region(i,index,tem_list):\n",
    "    if i<index:\n",
    "        tem_list[i:index+1]=tem_list[i:index+1][::-1]\n",
    "    else:\n",
    "        tem_list[index:i+1]=tem_list[index:i+1][::-1]\n",
    "    return tem_list\n",
    "    \n",
    "def Reversal_Distance(first_l, second_l, strings_dic):\n",
    "    if first_l == second_l:\n",
    "        return 0\n",
    "    answer_list = []\n",
    "    for i in range(len(first_l)):\n",
    "        tem_list = second_l[:]\n",
    "        if first_l[i]!=tem_list[i]:\n",
    "            index = tem_list.index(first_l[i])\n",
    "            \n",
    "            tem_list=swap_region(i,index,tem_list)\n",
    "            \n",
    "            if compare_two_list(first_l, tem_list)>=compare_two_list(first_l, second_l): #or compare_two_list(first_l, tem_list[::-1])>=compare_two_list(first_l, second_l[::-1]):\n",
    "                tem_string=\"\"\n",
    "                for x in tem_list:\n",
    "                    if x==10:\n",
    "                        tem_string+=\"x\"\n",
    "                    else:\n",
    "                        tem_string+=str(x)\n",
    "                if tem_string not in strings_dic:\n",
    "                    answer = Reversal_Distance(first_l, tem_list, strings_dic)\n",
    "                    strings_dic[tem_string] = answer\n",
    "                    #print(answer)\n",
    "                    #print(strings_dic)\n",
    "                answer_list.append(strings_dic[tem_string]+1)\n",
    "    if len(answer_list)==0:\n",
    "        return float('inf')\n",
    "    else:\n",
    "        return min(answer_list)\n",
    "            "
   ]
  },
  {
   "cell_type": "code",
   "execution_count": 2,
   "id": "94fac278",
   "metadata": {},
   "outputs": [
    {
     "name": "stdout",
     "output_type": "stream",
     "text": [
      "9 4 5 7 0 "
     ]
    }
   ],
   "source": [
    "with open(r\"D:\\rosalind_2sum1.txt\", \"r\") as f:\n",
    "    lines=0\n",
    "    c = 0\n",
    "    d = {}\n",
    "    for line in f:\n",
    "        if lines%3 == 0:\n",
    "            a = list(map(int,line.strip().split()))\n",
    "        elif lines%3 == 1:\n",
    "            b = list(map(int,line.strip().split()))\n",
    "            #print(a,b)\n",
    "            answer=Reversal_Distance(a,b,d)\n",
    "            print(answer, end = \" \")\n",
    "        else:\n",
    "            first_l = []\n",
    "            second_l = []\n",
    "        lines+=1\n",
    "        d={}"
   ]
  },
  {
   "cell_type": "code",
   "execution_count": 2,
   "id": "fd66618d",
   "metadata": {},
   "outputs": [
    {
     "data": {
      "text/plain": [
       "[3, 2, 1]"
      ]
     },
     "execution_count": 2,
     "metadata": {},
     "output_type": "execute_result"
    }
   ],
   "source": [
    "a = [1,2,3]\n",
    "a[::-1]"
   ]
  },
  {
   "cell_type": "code",
   "execution_count": null,
   "id": "420c71c9",
   "metadata": {},
   "outputs": [],
   "source": []
  }
 ],
 "metadata": {
  "kernelspec": {
   "display_name": "Python 3 (ipykernel)",
   "language": "python",
   "name": "python3"
  },
  "language_info": {
   "codemirror_mode": {
    "name": "ipython",
    "version": 3
   },
   "file_extension": ".py",
   "mimetype": "text/x-python",
   "name": "python",
   "nbconvert_exporter": "python",
   "pygments_lexer": "ipython3",
   "version": "3.9.13"
  }
 },
 "nbformat": 4,
 "nbformat_minor": 5
}
