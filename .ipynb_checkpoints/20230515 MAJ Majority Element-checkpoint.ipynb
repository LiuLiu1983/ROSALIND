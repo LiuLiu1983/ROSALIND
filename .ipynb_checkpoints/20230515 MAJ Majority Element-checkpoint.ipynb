{
 "cells": [
  {
   "cell_type": "code",
   "execution_count": 4,
   "id": "17b20a6a",
   "metadata": {},
   "outputs": [
    {
     "name": "stdout",
     "output_type": "stream",
     "text": [
      "5686 6057 -1 7714 -1 -1 -1 7968 -1 -1 813 7901 -1 5441 -1 6472 9421 -1 "
     ]
    }
   ],
   "source": [
    "def majority_element(l, n):\n",
    "    store_dic = {}\n",
    "    for element in l:\n",
    "        if element not in store_dic:\n",
    "            store_dic[element] = 1\n",
    "        else:\n",
    "            store_dic[element] += 1\n",
    "        \n",
    "        if store_dic[element] > n:\n",
    "            return element\n",
    "    return -1\n",
    "\n",
    "with open(\"/Users/newuser/Downloads/rosalind_maj.txt\", \"r\") as f:\n",
    "    l = f.readline().strip().split()\n",
    "    k = int(l[0])\n",
    "    n = int(l[1])\n",
    "    for _ in range(k):\n",
    "        tem_list= f.readline().strip().split()\n",
    "        print(majority_element(tem_list, n//2), end = \" \")\n",
    "    "
   ]
  },
  {
   "cell_type": "code",
   "execution_count": null,
   "id": "94ed6ba1",
   "metadata": {},
   "outputs": [],
   "source": []
  }
 ],
 "metadata": {
  "kernelspec": {
   "display_name": "Python 3 (ipykernel)",
   "language": "python",
   "name": "python3"
  },
  "language_info": {
   "codemirror_mode": {
    "name": "ipython",
    "version": 3
   },
   "file_extension": ".py",
   "mimetype": "text/x-python",
   "name": "python",
   "nbconvert_exporter": "python",
   "pygments_lexer": "ipython3",
   "version": "3.9.13"
  }
 },
 "nbformat": 4,
 "nbformat_minor": 5
}
