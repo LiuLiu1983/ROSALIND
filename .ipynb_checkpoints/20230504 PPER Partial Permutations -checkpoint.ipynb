{
 "cells": [
  {
   "cell_type": "code",
   "execution_count": 3,
   "id": "ac1d7eb1",
   "metadata": {},
   "outputs": [],
   "source": [
    "def partial_permutation(n,k):\n",
    "    results = 1\n",
    "    count=1\n",
    "    for i in range(n,n-k,-1):\n",
    "        results *= i\n",
    "        if count>5:\n",
    "            results = results%1000000\n",
    "            count = 1\n",
    "        else:\n",
    "            count +=1\n",
    "    results = results%1000000    \n",
    "    return results\n",
    "        "
   ]
  },
  {
   "cell_type": "code",
   "execution_count": 5,
   "id": "d0cee83f",
   "metadata": {},
   "outputs": [
    {
     "data": {
      "text/plain": [
       "472000"
      ]
     },
     "execution_count": 5,
     "metadata": {},
     "output_type": "execute_result"
    }
   ],
   "source": [
    "partial_permutation(100,10)"
   ]
  },
  {
   "cell_type": "code",
   "execution_count": null,
   "id": "524c1d30",
   "metadata": {},
   "outputs": [],
   "source": []
  }
 ],
 "metadata": {
  "kernelspec": {
   "display_name": "Python 3 (ipykernel)",
   "language": "python",
   "name": "python3"
  },
  "language_info": {
   "codemirror_mode": {
    "name": "ipython",
    "version": 3
   },
   "file_extension": ".py",
   "mimetype": "text/x-python",
   "name": "python",
   "nbconvert_exporter": "python",
   "pygments_lexer": "ipython3",
   "version": "3.9.13"
  }
 },
 "nbformat": 4,
 "nbformat_minor": 5
}
