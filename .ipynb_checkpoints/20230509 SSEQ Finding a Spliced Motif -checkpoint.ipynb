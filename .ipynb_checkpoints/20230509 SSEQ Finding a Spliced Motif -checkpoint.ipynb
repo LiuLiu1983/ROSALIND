{
 "cells": [
  {
   "cell_type": "code",
   "execution_count": 10,
   "id": "4787eca4",
   "metadata": {},
   "outputs": [],
   "source": [
    "def find_subsequence(string, subsequence):\n",
    "    j = 0\n",
    "    index_list = []\n",
    "    for i, word in enumerate(string):\n",
    "        if j> len(subsequence)-1:\n",
    "            break\n",
    "        if word == subsequence[j]:\n",
    "            index_list.append(i+1)\n",
    "            j+=1\n",
    "    return index_list"
   ]
  },
  {
   "cell_type": "code",
   "execution_count": 12,
   "id": "c159e239",
   "metadata": {},
   "outputs": [
    {
     "name": "stdout",
     "output_type": "stream",
     "text": [
      "2 5 6 10 14 16 21 24 29 31 32 34 41 43 49 53\n"
     ]
    }
   ],
   "source": [
    "string=\"TCACGGCAAGACGTGAAGACTGGTTATTGTCCATGAAGTTCTACCCCATGTGCTTCCGGCTCAGGCCATAAGTCCGGCACTGGCCGAAGTACTATCAAGCGTTAAGATCCGTAGGGTAGATATATGCAGCGACGGATGGGAGATAATAAGGGTGCTATAGCTTTCTTGCAGTTATATACCAGGGCAAGCTGCTACACTCTGTTGTTTCGCAGTGGCTCACTCAAATGCGGCCACCCTCGTGCCAAGCTGTACACCCTCAAAAACTCCTTCACCTCTGGTCACCAATAATTCCGTAGCTGTCCTTAATTCGGCCATTCATGTCGTGGGAGAGGTTACCATGCGATACATTGGAGCGGTGTACTTATAAGCCGAGTATCGAAGCGCTGCACAGGAGAGGGATGCCGTGCCGGCGGCCCGCAGTGAGCGTCGTCAATTAGTCTAGAAATCACTTTAGGTTCAGATTTAGGCAAGAACCTGCGCGTTTGTTATAAGCACCCTTGCATCTCGTTCACGTGTGTAGTTGTCGGTTTCAATAGCGTTAAAAGCTAGATTAGAAATGTTTTCCCGTCAGACACCGGTATCACGATAACCGTCCAGTAGCAACCGTTCTTCAGAGTCAAGGTACATACATTCTGTACGACGCTTCGGAAGCGAGATCATGCAGGCCATTGCCGCAAACTGTTGCATTAACCCCCAAGAGGGCAGCAAATTCGTGCTGCGTCATGGGACAGCCGGTCATAACAACCTGCCTGAGTCCGACATCCGCACGCGTCCCAGGGGCCAGAAACCCTACAGAGTCTCCGAGCCTAAATCACACAACAGGCTGGTGCTCACACGGTGGCGGGGCCGTTGTTTAAAATGGCGACCCTGGCATGCCTCTCGTCGGCGGCGGCTCCTACGAACGTGCAAGGAGAGCCAACCCTCAGCGGGCTTCTGCCTTAAGCTGGCCATTACCA\"\n",
    "subsequence=\"CGGGTATTGCCTCATC\"\n",
    "results = find_subsequence(string, subsequence)\n",
    "print(' '.join(map(str,results)))"
   ]
  },
  {
   "cell_type": "code",
   "execution_count": null,
   "id": "a1c1f4b8",
   "metadata": {},
   "outputs": [],
   "source": [
    "\"\"\"enhanced version, find all the indices in the string\"\"\"\n",
    "没写完\n",
    "def find_all_indices(string, subsequence, indices_list):\n",
    "    \"\"\"\"\"\"\n",
    "    j = 0\n",
    "    tem_list = []\n",
    "    \"\"\"从之前的list里面的，最后一个开始，先判断最后一个indices 的最后一位，后面还有没有其他的位置可以\"\"\"\n",
    "    for i, word in enumerate(string):\n",
    "        if j> len(subsequence)-1:\n",
    "            break\n",
    "        if word == subsequence[j]:\n",
    "            tem_list.append(i+1)\n",
    "            j+=1\n",
    "    return index_list\n",
    "\n",
    "\n",
    "\n",
    "from Bio import SeqIO\n",
    "seq_string = []\n",
    "filename=\"rosalind_splc.txt\"\n",
    "dictionary=\"D:\\\\\"\n",
    "with open(dictionary+filename, \"r\") as fa:\n",
    "    for seq_record in SeqIO.parse(fa,\"fasta\"):\n",
    "        seq_string.append(str(seq_record.seq))"
   ]
  }
 ],
 "metadata": {
  "kernelspec": {
   "display_name": "Python 3 (ipykernel)",
   "language": "python",
   "name": "python3"
  },
  "language_info": {
   "codemirror_mode": {
    "name": "ipython",
    "version": 3
   },
   "file_extension": ".py",
   "mimetype": "text/x-python",
   "name": "python",
   "nbconvert_exporter": "python",
   "pygments_lexer": "ipython3",
   "version": "3.9.13"
  }
 },
 "nbformat": 4,
 "nbformat_minor": 5
}
