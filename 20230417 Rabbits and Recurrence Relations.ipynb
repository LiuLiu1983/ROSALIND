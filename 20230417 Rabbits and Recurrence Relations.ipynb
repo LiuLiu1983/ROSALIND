{
 "cells": [
  {
   "cell_type": "code",
   "execution_count": 13,
   "id": "61b5e82c",
   "metadata": {},
   "outputs": [],
   "source": [
    "def Fib_rabbits(n,k):\n",
    "\n",
    "    \"\"\"The total number of rabbit pairs that will be present after n months, \n",
    "    if we begin with 1 pair and in each generation, \n",
    "    every pair of reproduction-age rabbits produces a litter of k rabbit pairs (instead of only 1 pair)\n",
    "    \"\"\"\n",
    "\n",
    "    if n==1:\n",
    "        return 1\n",
    "    if n==2:\n",
    "        return 1\n",
    "#     if n==3:\n",
    "#         return 2*k+1\n",
    "    new_reproduction_one_generation_before= Fib_rabbits(n-1,k)\n",
    "    reproduction_age_rabbits = Fib_rabbits(n-2,k)*k\n",
    "     \n",
    "    return new_reproduction_one_generation_before+reproduction_age_rabbits\n",
    "    "
   ]
  },
  {
   "cell_type": "code",
   "execution_count": 14,
   "id": "e3aba517",
   "metadata": {},
   "outputs": [
    {
     "data": {
      "text/plain": [
       "19"
      ]
     },
     "execution_count": 14,
     "metadata": {},
     "output_type": "execute_result"
    }
   ],
   "source": [
    "Fib_rabbits(5,3)"
   ]
  },
  {
   "cell_type": "code",
   "execution_count": 15,
   "id": "b527898d",
   "metadata": {},
   "outputs": [
    {
     "data": {
      "text/plain": [
       "313507166394911"
      ]
     },
     "execution_count": 15,
     "metadata": {},
     "output_type": "execute_result"
    }
   ],
   "source": [
    "Fib_rabbits(34,5)"
   ]
  },
  {
   "cell_type": "code",
   "execution_count": null,
   "id": "8fab8baf",
   "metadata": {},
   "outputs": [],
   "source": []
  }
 ],
 "metadata": {
  "kernelspec": {
   "display_name": "Python 3 (ipykernel)",
   "language": "python",
   "name": "python3"
  },
  "language_info": {
   "codemirror_mode": {
    "name": "ipython",
    "version": 3
   },
   "file_extension": ".py",
   "mimetype": "text/x-python",
   "name": "python",
   "nbconvert_exporter": "python",
   "pygments_lexer": "ipython3",
   "version": "3.9.13"
  }
 },
 "nbformat": 4,
 "nbformat_minor": 5
}
