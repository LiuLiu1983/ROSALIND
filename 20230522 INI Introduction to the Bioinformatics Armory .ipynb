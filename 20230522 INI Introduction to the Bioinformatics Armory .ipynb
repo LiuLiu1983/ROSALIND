{
 "cells": [
  {
   "cell_type": "code",
   "execution_count": 5,
   "id": "07f76804",
   "metadata": {},
   "outputs": [
    {
     "name": "stdout",
     "output_type": "stream",
     "text": [
      "233 230 223 241 "
     ]
    }
   ],
   "source": [
    "from Bio.Seq import Seq\n",
    "DNA_list = \"TTTATCCGAGACGAATAGGTTCCGGCACTCCCATTAACGACTAGGGGTATGTGCAGGGGTTTACCGGTATCTATGGCAGTAAAAGGCAGCTGAGCCTTCAATTGCCTCAGCAGTTACCACCAATTTATTCGTAACCCGTCTTGTATAAGTTTGATTCAAGAATTTTGCGGTTACACTCAGCAGGTGATCTCCTTTCCCGGCAAATCCTCCCACACGATCTAATACCTGCCTGTTCTGTGTCCGAGATGCGTAGCACTAAACTCCTGCGTATCCAGTCCATCCCGCACTCATCAGTACCGTTACTCTCCCGCTGTGTATCAGATCGCTCGAGGAAGGGCACAGGACGCCGGTTAACCAGCGCTCGGGTTCCATTCGGCGAACTATTAGCTCATAGCTGACGAATACTCCTGTTCTGCCAGTACGAGCGATCTCTCTTGTAATCGAAGTTCATTTTTCCGAGTATGGAGCATGCGTGTGTAGAACCCAATGTTGGGCGGCATCGAACCTATTGTTCTCGTAAGTTAATTATGCGTAATGCAAGTTAAGCCCCGCAATAGAGGAATACTGGATGCTTGTGCTCGTTCACTGATGTTTAAAACTTTAGAATTGTTCCAAGAAGTCACCTAGGGATAATTTGCGACCGAGGTCAGCTACAGGGATGCGGAAAGGGGTGGGACCAAAGACGCTACACTTAACTAGAGTATAACGATAGGTGTATCAACCCCTGAAGCTCGACTGAAGGAAATCAACGTGCACGCGTCGCTCAGGTGTCGTCACCAGAGTGGCACGAGACGACCAGAACCTGAGTATTACCCTCTACACCACGATACTGGTGCGTCAAAGTAATCCGAGTGATAAAAGTTTTACCGGTCTCGTGTATCGACTGCGACCCAGGCATGCTGTGGAATTCATGGTGGATTTGCCCTC\"\n",
    "my_seq = Seq(DNA_list)\n",
    "base_list = ['A','C','G','T']\n",
    "for base in base_list:\n",
    "    print(my_seq.count(base),end=' ')"
   ]
  },
  {
   "cell_type": "code",
   "execution_count": null,
   "id": "fd1adb3e",
   "metadata": {},
   "outputs": [],
   "source": []
  }
 ],
 "metadata": {
  "kernelspec": {
   "display_name": "Python 3 (ipykernel)",
   "language": "python",
   "name": "python3"
  },
  "language_info": {
   "codemirror_mode": {
    "name": "ipython",
    "version": 3
   },
   "file_extension": ".py",
   "mimetype": "text/x-python",
   "name": "python",
   "nbconvert_exporter": "python",
   "pygments_lexer": "ipython3",
   "version": "3.9.13"
  }
 },
 "nbformat": 4,
 "nbformat_minor": 5
}
