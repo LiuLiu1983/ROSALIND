{
 "cells": [
  {
   "cell_type": "code",
   "execution_count": 36,
   "id": "69e46520",
   "metadata": {},
   "outputs": [],
   "source": [
    "def mrna(protein):\n",
    "    codons = {'F': ['UUU', 'UUC'],\n",
    "          'L': ['UUA', 'UUG', 'CUU', 'CUC', 'CUA', 'CUG'],\n",
    "          'S': ['UCU', 'UCC', 'UCA', 'UCG', 'AGU', 'AGC'],\n",
    "          'Y': ['UAU', 'UAC'],\n",
    "          '*': ['UAA', 'UAG', 'UGA'],\n",
    "          'C': ['UGU', 'UGC'],\n",
    "          'W': ['UGG'],\n",
    "          'P': ['CCU', 'CCC', 'CCA', 'CCG'],\n",
    "          'H': ['CAU', 'CAC'],\n",
    "          'Q': ['CAA', 'CAG'],\n",
    "          'R': ['CGU', 'CGC', 'CGA', 'CGG', 'AGA', 'AGG'],\n",
    "          'V': ['GUU', 'GUC', 'GUA', 'GUG'],\n",
    "          'A': ['GCU', 'GCC', 'GCA', 'GCG'],\n",
    "          'D': ['GAU', 'GAC'],\n",
    "          'E': ['GAA', 'GAG'],\n",
    "          'G': ['GGU', 'GGC', 'GGA', 'GGG'],\n",
    "          'I': ['AUU', 'AUC', 'AUA'],\n",
    "          'M': ['AUG'],\n",
    "          'T': ['ACU', 'ACC', 'ACA', 'ACG'],\n",
    "          'N': ['AAU', 'AAC'],\n",
    "          'K': ['AAA', 'AAG']}\n",
    "    code_number={}\n",
    "    for key in codons:\n",
    "        code_number[key]= len(codons[key])\n",
    "        \n",
    "    if protein[-1] != '*':\n",
    "        protein += \"*\"\n",
    "    count=0\n",
    "    modulo=code_number[protein[0]]%100000\n",
    "    possib = 1\n",
    "    for char in protein[1:]:\n",
    "        if count==12:\n",
    "            modulo = (modulo * possib) % 1000000\n",
    "            count = 0\n",
    "            possib = 1\n",
    "        possib = possib*int(code_number[char])\n",
    "        count += 1\n",
    "\n",
    "    modulo = (modulo*possib) % 1000000\n",
    "            \n",
    "    return modulo\n",
    "        \n",
    "            \n",
    "            \n",
    "        "
   ]
  },
  {
   "cell_type": "code",
   "execution_count": 38,
   "id": "bafa238d",
   "metadata": {},
   "outputs": [
    {
     "data": {
      "text/plain": [
       "312448"
      ]
     },
     "execution_count": 38,
     "metadata": {},
     "output_type": "execute_result"
    }
   ],
   "source": [
    "protein=\"MKCQSQAAQMNWLSQKHLDNTCWFFKWICCRCCCEPHMNWFSAYSDSRWYHWYQYFLFTVITRVREIAGFEYTGLVAANVHTACISGAHYWREGNMSEEKMYPTPIVHEEVWPWTMMCLKPHHAERAGMCLWKNPYLKVIIMAWSWMGTVNNNYMWFCDPQIAAVNQNEDRIIHADHIPHWFFLAGLMLVMHQSPGRILKYCQFLRCLTRVDRMLKVVMKPCVRRLTMMWHCNEELTGMKHCHQEHTEHHRNVHTIFSWEPAPHSFKVTWNTQQKTIDELFYRHNMPHCKKCVFHHRLFMADLFPVIDDKMTFYLYRCYGGHCDNWCHDTGSNMQLALCAGRCYNGSFGSIWNCADYEFYPEDKRKWYFDEYVGHDDDIKFVTKVGPMWHERVFRGFYVQVDESPYFACNTPLLCWGKMYFGWWASFPRPMCELSHMTYCEAWATNCAFGERQTWQFEFSKDFFTNVDTDEEIHVVWTYAQDSKHFYQMDGHWRANQLFANANRMLELSTHVGGRWLIMMGCDYAPNCACLQCMQPSMTVTCNASCYEICPVSIPPGVMTCWVNLWTMVEHMHRPPNDMNDHIEYWYFVISPMGPGTNHKPTHYQWCCWGFHRECVLEVTCENKQSCCGDIFQIERAMTWWDFERHRYYYRESLFFFFIQAWKFCCFVNGPPPTPHAVNMEHPQHELARVDFPEFFKENNWLCRDIMLYYMVESDPGHEYPWSNSGNVYVMIRQRFSNNWTMKHWPQLSSRGVDHHSGNEDSGSSHDDWHVDCYEFNIMQNDTAFLDMMMIEAVCNWVMLMDEAKYYVPRPKKRSFMFQVVKHKQKAATHFTVVSLLRTGHSVHEIQNCHSGDVISHMPPQTYRRSAFHLDRHDKADASSDECMGLAMRFDTFAYWKIIWTTSVTKQHQQYAISQHNFFFDKSICVGEKWGHWYQRHICPIIPMNMRNDIRNGHFPIFWYIYGKEATQIQSVFTDSAEYAYAGMWTKMIPTDIFTNA\"\n",
    "mrna(protein)"
   ]
  },
  {
   "cell_type": "code",
   "execution_count": null,
   "id": "46f673b3",
   "metadata": {},
   "outputs": [],
   "source": []
  }
 ],
 "metadata": {
  "kernelspec": {
   "display_name": "Python 3 (ipykernel)",
   "language": "python",
   "name": "python3"
  },
  "language_info": {
   "codemirror_mode": {
    "name": "ipython",
    "version": 3
   },
   "file_extension": ".py",
   "mimetype": "text/x-python",
   "name": "python",
   "nbconvert_exporter": "python",
   "pygments_lexer": "ipython3",
   "version": "3.9.13"
  }
 },
 "nbformat": 4,
 "nbformat_minor": 5
}
